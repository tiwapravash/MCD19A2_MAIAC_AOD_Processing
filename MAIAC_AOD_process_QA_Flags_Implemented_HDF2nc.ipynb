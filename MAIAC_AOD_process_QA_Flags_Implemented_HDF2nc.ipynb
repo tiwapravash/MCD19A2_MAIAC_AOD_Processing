{
 "cells": [
  {
   "cell_type": "code",
   "execution_count": 61,
   "id": "3b103949-b80c-42ae-90d7-0c9399615d89",
   "metadata": {},
   "outputs": [],
   "source": [
    "%reset -f\n",
    "##THis code processes the MAIAC MCD19A2 1km AOD product from both AQUA nad TERRA Datasets\n",
    "import os\n",
    "import re\n",
    "import pyproj\n",
    "import numpy as np\n",
    "import pandas as pd\n",
    "import matplotlib as mpl\n",
    "import matplotlib.pyplot as plt\n",
    "from pyhdf.SD import SD, SDC\n",
    "FILE_NAME = 'MCD19A2.A2018120.h26v05.061.2023117102707.hdf'\n",
    "hdf = SD(FILE_NAME, SDC.READ)"
   ]
  },
  {
   "cell_type": "code",
   "execution_count": 103,
   "id": "30e94b33-cc72-4220-9c03-d8a0400e899e",
   "metadata": {},
   "outputs": [
    {
     "name": "stdout",
     "output_type": "stream",
     "text": [
      "Year: 2018, Month: 4, Day: 30, Hour: 3, Minute: 25\n",
      "Year: 2018, Month: 4, Day: 30, Hour: 5, Minute: 0\n",
      "Year: 2018, Month: 4, Day: 30, Hour: 5, Minute: 5\n",
      "Year: 2018, Month: 4, Day: 30, Hour: 6, Minute: 40\n",
      "['2018-04-30T03:25:00.000000' '2018-04-30T05:00:00.000000'\n",
      " '2018-04-30T05:05:00.000000' '2018-04-30T06:40:00.000000']\n"
     ]
    }
   ],
   "source": [
    "time_array=[]\n",
    "import datetime\n",
    "from datetime import time\n",
    "list(hdf.attributes())\n",
    "orbit_time= hdf.attributes()['Orbit_time_stamp']\n",
    "orbit_time\n",
    "orbit_time_list = orbit_time.split()\n",
    "time_stamps = []\n",
    "for timestamp in orbit_time_list:\n",
    "    year = int(timestamp[0:4])\n",
    "    julian_day = int(timestamp[4:7])\n",
    "    hour = int(timestamp[7:9])\n",
    "    min = int(timestamp[9:11])\n",
    "    gregorian_date = datetime.datetime(year, 1, 1) + datetime.timedelta(days=julian_day - 1)\n",
    "    year = gregorian_date.year\n",
    "    month = gregorian_date.month\n",
    "    day = gregorian_date.day\n",
    "    time_stamps.append(gregorian_date.replace(hour=hour, minute=min))\n",
    "    print(f\"Year: {year}, Month: {month}, Day: {day}, Hour: {hour}, Minute: {min}\")\n",
    "    time_array = np.array(time_stamps, dtype='datetime64')\n",
    "print(time_array)"
   ]
  },
  {
   "cell_type": "code",
   "execution_count": 63,
   "id": "afc3a0d0-2b87-4173-bc04-fc50b162fe37",
   "metadata": {},
   "outputs": [
    {
     "name": "stdout",
     "output_type": "stream",
     "text": [
      "\n",
      "aod550_0\n",
      "\n",
      "aod550_1\n",
      "\n",
      "aod550_2\n",
      "\n",
      "aod550_3\n",
      "(4, 1200, 1200)\n"
     ]
    }
   ],
   "source": [
    "### DATA FIELD PROCESS AND REPROJECT ###\n",
    "DATAFIELD_NAME1 = 'Optical_Depth_055'\n",
    "aod550=None\n",
    "# Read dataset.\n",
    "aod550_3D = hdf.select(DATAFIELD_NAME1)\n",
    "aod550_shape = aod550_3D.info()[2]\n",
    "aod550_shape\n",
    "num_orbits = aod550_shape[0]\n",
    "num_orbits\n",
    "# Read attributes.\n",
    "attrs = aod550_3D.attributes(full=1)\n",
    "attrs\n",
    "lna=attrs[\"long_name\"]\n",
    "long_name = lna[0]\n",
    "vra=attrs[\"valid_range\"]\n",
    "valid_range = vra[0]\n",
    "fva=attrs[\"_FillValue\"]\n",
    "_FillValue = fva[0]\n",
    "sfa=attrs[\"scale_factor\"]\n",
    "scale_factor = sfa[0]        \n",
    "ua=attrs[\"unit\"]\n",
    "units = ua[0]\n",
    "aoa=attrs[\"add_offset\"]\n",
    "add_offset = aoa[0]\n",
    "for orbit_num in range(num_orbits):\n",
    "    aod=aod550_3D[orbit_num, :, :].astype(np.double)\n",
    "    invalid = np.logical_or(aod < valid_range[0], aod > valid_range[1])\n",
    "    invalid = np.logical_or(invalid, aod == _FillValue)\n",
    "    aod[invalid] = np.nan\n",
    "    aod = (aod - add_offset) * scale_factor\n",
    "    aod = np.ma.masked_array(aod, np.isnan(aod))\n",
    "    ## save as seperate variable##\n",
    "    var_name = f\"aod550_{orbit_num}\"\n",
    "    exec(f\"{var_name}=aod\")\n",
    "    print(f\"\\n{var_name}\") \n",
    "    # Stack \n",
    "    if aod550 is None:\n",
    "        aod550 = aod[np.newaxis, :,:]\n",
    "    else:\n",
    "        aod550 = np.concatenate([aod550, aod[np.newaxis,:,:]], axis=0)\n",
    "print(aod550.shape)"
   ]
  },
  {
   "cell_type": "code",
   "execution_count": 64,
   "id": "ef0cbbbe-03d6-404e-a065-475f037ad0f4",
   "metadata": {},
   "outputs": [
    {
     "name": "stdout",
     "output_type": "stream",
     "text": [
      "\n",
      "aod470_0\n",
      "\n",
      "aod470_1\n",
      "\n",
      "aod470_2\n",
      "\n",
      "aod470_3\n",
      "(4, 1200, 1200)\n"
     ]
    }
   ],
   "source": [
    "DATAFIELD_NAME2 = 'Optical_Depth_047'\n",
    "aod470=None\n",
    "hdf = SD(FILE_NAME, SDC.READ)\n",
    "# Read dataset.\n",
    "aod470_3D = hdf.select(DATAFIELD_NAME2)\n",
    "aod470_shape = aod470_3D.info()[2]\n",
    "num_orbits = aod470_shape[0]\n",
    "# Read attributes.\n",
    "attrs = aod470_3D.attributes(full=1)\n",
    "lna=attrs[\"long_name\"]\n",
    "long_name = lna[0]\n",
    "vra=attrs[\"valid_range\"]\n",
    "valid_range = vra[0]\n",
    "fva=attrs[\"_FillValue\"]\n",
    "_FillValue = fva[0]\n",
    "sfa=attrs[\"scale_factor\"]\n",
    "scale_factor = sfa[0]        \n",
    "ua=attrs[\"unit\"]\n",
    "units = ua[0]\n",
    "aoa=attrs[\"add_offset\"]\n",
    "add_offset = aoa[0]\n",
    "for orbit_num in range(num_orbits):\n",
    "    aod1=aod470_3D[orbit_num, :, :].astype(np.double)\n",
    "    invalid = np.logical_or(aod1 < valid_range[0], aod1 > valid_range[1])\n",
    "    invalid = np.logical_or(invalid, aod1 == _FillValue)\n",
    "    aod1[invalid] = np.nan\n",
    "    aod1 = (aod1 - add_offset) * scale_factor\n",
    "    aod1 = np.ma.masked_array(aod1, np.isnan(aod1))\n",
    "    ## save as seperate variable##\n",
    "    var_name = f\"aod470_{orbit_num}\"\n",
    "    exec(f\"{var_name}=aod1\")\n",
    "    print(f\"\\n{var_name}\") \n",
    "    # Stack \n",
    "    if aod470 is None:\n",
    "        aod470 = aod1[np.newaxis, :,:]\n",
    "    else:\n",
    "        aod470 = np.concatenate([aod470, aod[np.newaxis,:,:]], axis=0)\n",
    "print(aod470.shape)"
   ]
  },
  {
   "cell_type": "code",
   "execution_count": 65,
   "id": "76bed938-885e-4197-9331-29c2eb8cc8fa",
   "metadata": {},
   "outputs": [
    {
     "name": "stdout",
     "output_type": "stream",
     "text": [
      "\n",
      "aodqa_0\n",
      "\n",
      "aodqa_1\n",
      "\n",
      "aodqa_2\n",
      "\n",
      "aodqa_3\n",
      "(4, 1200, 1200)\n",
      "Shape of aodqa_bin: (4, 1200, 1200)\n"
     ]
    }
   ],
   "source": [
    "DATAFIELD_NAME3 = 'AOD_QA'\n",
    "aodqa=None\n",
    "hdf = SD(FILE_NAME, SDC.READ)\n",
    "# Read dataset.\n",
    "aodqa_3D = hdf.select(DATAFIELD_NAME3)\n",
    "# Read dataset.\n",
    "aodqa_shape = aodqa_3D.info()[2]\n",
    "num_orbits = aodqa_shape[0]\n",
    "# Read attributes.\n",
    "attrs = aodqa_3D.attributes(full=1)\n",
    "lna=attrs[\"long_name\"]\n",
    "long_name = lna[0]\n",
    "vra=attrs[\"valid_range\"]\n",
    "valid_range = vra[0]\n",
    "fva=attrs[\"_FillValue\"]\n",
    "_FillValue = fva[0]\n",
    "for orbit_num in range(num_orbits):\n",
    "    qa=aodqa_3D[orbit_num, :, :].astype(np.double)\n",
    "    invalid = np.logical_or(qa < valid_range[0], qa > valid_range[1])\n",
    "    invalid = np.logical_or(invalid, qa == _FillValue)\n",
    "    qa[invalid] = np.nan\n",
    "    qa = np.ma.masked_array(qa, np.isnan(qa))\n",
    "    ## save as seperate variable##\n",
    "    var_name = f\"aodqa_{orbit_num}\"\n",
    "    exec(f\"{var_name}=qa\")\n",
    "    print(f\"\\n{var_name}\") \n",
    "    if orbit_num == 0:\n",
    "        aodqa = qa[np.newaxis, :,:]\n",
    "    else: \n",
    "        aodqa = np.concatenate([aodqa, qa[np.newaxis,:,:]], axis=0)#aodqa.shape\n",
    "print(aodqa.shape)\n",
    "def int_to_binary(x):\n",
    "    if np.isnan(x):\n",
    "        return np.nan  # Return NaN for NaN values\n",
    "    return format(int(x), '016b')  # Convert integers to 16-bit binary strings\n",
    "\n",
    "vectorized_int_to_binary = np.vectorize(int_to_binary, otypes=[object])\n",
    "\n",
    "# Convert aodqa to binary\n",
    "aodqa_bin = vectorized_int_to_binary(aodqa)\n",
    "\n",
    "print(f\"Shape of aodqa_bin: {aodqa_bin.shape}\")"
   ]
  },
  {
   "cell_type": "code",
   "execution_count": 54,
   "id": "ac28b6f4-85ae-4edc-81d7-8ee029f3d8e9",
   "metadata": {},
   "outputs": [],
   "source": [
    "## Important Note ## PLEASE READ\n",
    "#Each QA is a 16 bit file \n",
    "#4.4 AOD QA definition for MCD19A2 (16-bit unsigned integer)\n",
    "#Bits Definition\n",
    "#0-2 Cloud Mask\n",
    "#000 --- Undefined\n",
    "#001 --- Clear\n",
    "#010 --- Possibly Cloudy (detected by AOD filter)\n",
    "#011 --- Cloudy (detected by cloud mask algorithm)\n",
    "#101 --- Cloud Shadow\n",
    "#110 --- Hot spot of fire\n",
    "#111 --- Water Sediments\n",
    "#3-4 Land Water Snow/ice Mask\n",
    "#00 --- Land\n",
    "#01 --- Water\n",
    "#10 --- Snow\n",
    "#11 --- Ice\n",
    "#5-7 Adjacency Mask\n",
    "#000 --- Normal condition/Clear\n",
    "#001 --- Adjacent to clouds\n",
    "#010 --- Surrounded by more than 8 cloudy pixels\n",
    "#011 --- Adjacent to a single cloudy pixel\n",
    "#100 --- Adjacent to snow\n",
    "#101 --- Snow was previously detected in this pixel\n",
    "#8-11 QA for AOD\n",
    "#0000 --- Best quality\n",
    "#0001 --- Water Sediments are detected (water)\n",
    "#0011 --- There is 1 neighbor cloud\n",
    "#0100 --- There is >1 neighbor clouds\n",
    "#0101 --- No retrieval (cloudy, or whatever)\n",
    "#0110 --- No retrievals near detected or previously detected snow\n",
    "#0111 --- Climatology AOD: altitude above 3.5km (water) and 4.2km (land)\n",
    "#1000 --- No retrieval due to sun glint (water)\n",
    "#1001 --- Retrieved AOD is very low (<0.05) due to glint (water)\n",
    "#1010 --- AOD within +-2km from the coastline (may be unreliable)\n",
    "#1011 --- Land, research quality: AOD retrieved but CM is possibly cloudy\n",
    "#12 Glint Mask\n",
    "#0 --- No glint\n",
    "#1 --- Glint (glint angle < 40)\n",
    "#13-14 Aerosol Model\n",
    "#00 --- Background model (regional)\n",
    "#01 --- Smoke model (regional)\n",
    "#10 --- Dust model\n",
    "#15 Reserved"
   ]
  },
  {
   "cell_type": "code",
   "execution_count": 53,
   "id": "2d890912-e965-45f2-9fa5-46f7be298379",
   "metadata": {},
   "outputs": [],
   "source": [
    "# Please READ\n",
    "#From the combination of different 16 bit AODQA, we will be considering the following combinations to be valid \n",
    "## 0000000000000001\n",
    "## 0000000000001001\n",
    "## 0010000000000001\n",
    "## 0010000000001001\n",
    "#Criteria for Validity:\n",
    "#Bits 0-2 (Cloud Mask): Should be 001 (Clear)\n",
    "#Bits 3-4 (Land Water Snow/Ice Mask): Should be 00 (Land) or 01 (Water)\n",
    "#Bits 5-7 (Adjacency Mask): Should be 000 (Normal condition/Clear)\n",
    "#Bits 8-11 (AOD level and related flags): Should be 0000 (Best QA)\n",
    "#Bit 12 (No glint): Should be 0\n",
    "#Bits 13-14 (Aerosol Model): Should be 00 or 01\n",
    "#Bit 15 (Reserved): Should be 0\n",
    "#Let's break down the criteria and see if these patterns cover all possibilities:\n",
    "#Bits 0-2 (Cloud Mask): Must be 001 (Clear) - This is consistent in all patterns.\n",
    "#Bits 3-4 (Land/Water): Can be 00 (Land) or 01 (Water) - Your patterns cover both.\n",
    "#Bits 5-7 (Adjacency): Must be 000 (Normal condition/Clear) - This is consistent in all patterns.\n",
    "#Bits 8-11 (AOD QA): Must be 0000 (Best) - This is consistent in all patterns.\n",
    "#Bit 12 (No glint): Must be 0 - This is consistent in all patterns.\n",
    "#Bits 13-14 (Aerosol Model): Can be 00 or 01 - Your patterns cover both.\n",
    "#Bit 15 (Reserved): Must be 0 - This is consistent in all patterns.\n",
    "#The only varying parts in your criteria are bits 3-4 (Land/Water) and bits 13-14 (Aerosol Model).\n",
    "#Each of these can have two possible values, resulting in 2 * 2 = 4 combinations.\n",
    "#Your four patterns precisely cover these four possibilities:\n",
    "#Land (00) with Aerosol Model 00\n",
    "#Land (00) with Aerosol Model 01\n",
    "#Water (01) with Aerosol Model 00\n",
    "#Water (01) with Aerosol Model 01"
   ]
  },
  {
   "cell_type": "code",
   "execution_count": 66,
   "id": "28fdc631-a26d-4f28-a445-64e515042557",
   "metadata": {},
   "outputs": [
    {
     "name": "stdout",
     "output_type": "stream",
     "text": [
      "The decimal value of 0000000000000001 is: 1\n",
      "The decimal value of 0000000000001001 is: 9\n",
      "The decimal value of 0010000000000001 is: 8193\n",
      "The decimal value of 0010000000001001 is: 8201\n"
     ]
    }
   ],
   "source": [
    "#Now lets find the corresponding decimal for this Desired 16 bit binaries \n",
    "def binary_to_decimal(binary_string):\n",
    "    return int(binary_string, 2)\n",
    "\n",
    "# Example usage\n",
    "binary_strings = ['0000000000000001', '0000000000001001', '0010000000000001', '0010000000001001']\n",
    "decimal_values = [binary_to_decimal(b) for b in binary_strings]\n",
    "\n",
    "for binary, decimal in zip(binary_strings, decimal_values):\n",
    "    print(f\"The decimal value of {binary} is: {decimal}\")"
   ]
  },
  {
   "cell_type": "code",
   "execution_count": 67,
   "id": "099e844d-b08b-43f5-a0a3-e56fe7ef1dcc",
   "metadata": {},
   "outputs": [
    {
     "data": {
      "text/plain": [
       "(4, 1200, 1200)"
      ]
     },
     "execution_count": 67,
     "metadata": {},
     "output_type": "execute_result"
    }
   ],
   "source": [
    "#So AODQA across all the 4 orbits with the values 1,9,8193 and 8210 represent best Quality pixel. \n",
    "#Now we will correspondingly match the position with AOD550 and AOD470 for these positions, i.e for any position of AODQA other than \n",
    "## those whose values are 1,9,8193 and 8210 are in-validated or not used \n",
    "valid_values = {1, 9, 8193, 8201}\n",
    "# Create a mask of valid QA values\n",
    "valid_mask = np.isin(aodqa, list(valid_values))\n",
    "# Create copies of aod550 and aod470 to store the filtered results\n",
    "aod550_filtered = np.where(valid_mask, aod550, np.nan)\n",
    "aod470_filtered = np.where(valid_mask, aod470, np.nan)\n",
    "aod550_filtered.shape\n",
    "aod470_filtered.shape"
   ]
  },
  {
   "cell_type": "code",
   "execution_count": 73,
   "id": "69af811b-0cbd-4ab3-b10a-d1f97bc3b0be",
   "metadata": {},
   "outputs": [
    {
     "name": "stdout",
     "output_type": "stream",
     "text": [
      "Shape of daily_aod550: (1200, 1200)\n",
      "Shape of daily_aod470: (1200, 1200)\n"
     ]
    },
    {
     "name": "stderr",
     "output_type": "stream",
     "text": [
      "/var/folders/_k/q3nwf72n5l7c_fm7sh7pzls40000gn/T/ipykernel_77679/1460969127.py:2: RuntimeWarning: Mean of empty slice\n",
      "  daily_aod550 = np.nanmean(aod550_filtered, axis=0)\n",
      "/var/folders/_k/q3nwf72n5l7c_fm7sh7pzls40000gn/T/ipykernel_77679/1460969127.py:3: RuntimeWarning: Mean of empty slice\n",
      "  daily_aod470 = np.nanmean(aod470_filtered, axis=0)\n"
     ]
    }
   ],
   "source": [
    "# Calculate daily average AOD across all orbits\n",
    "daily_aod550 = np.nanmean(aod550_filtered, axis=0)\n",
    "daily_aod470 = np.nanmean(aod470_filtered, axis=0)\n",
    "# Check the shapes of the resulting arrays\n",
    "print(f\"Shape of daily_aod550: {daily_aod550.shape}\")\n",
    "print(f\"Shape of daily_aod470: {daily_aod470.shape}\")"
   ]
  },
  {
   "cell_type": "code",
   "execution_count": null,
   "id": "9c21c226-ca63-4641-b88d-75744fc27c22",
   "metadata": {},
   "outputs": [],
   "source": [
    "## Please Read ##\n",
    "#MODIS uses a fixed grid system for its data products.\n",
    "#Each pixel in the grid represents the same geographical location across different orbits.\n",
    "#The sinusoidal projection used by MODIS ensures that pixel sizes remain constant across the image.\n"
   ]
  },
  {
   "cell_type": "code",
   "execution_count": 83,
   "id": "a06f66b1-91d4-4b00-8211-c4c349d4f831",
   "metadata": {},
   "outputs": [
    {
     "name": "stderr",
     "output_type": "stream",
     "text": [
      "/Users/pravash/anaconda3/envs/test_env/lib/python3.9/site-packages/pyproj/crs/crs.py:141: FutureWarning: '+init=<authority>:<code>' syntax is deprecated. '<authority>:<code>' is the preferred initialization method. When making the change, be mindful of axis order changes: https://pyproj4.github.io/pyproj/stable/gotchas.html#axis-order-changes-in-proj-6\n",
      "  in_crs_string = _prepare_from_proj_string(in_crs_string)\n",
      "/var/folders/_k/q3nwf72n5l7c_fm7sh7pzls40000gn/T/ipykernel_77679/1443067224.py:41: FutureWarning: This function is deprecated. See: https://pyproj4.github.io/pyproj/stable/gotchas.html#upgrading-to-pyproj-2-from-pyproj-1\n",
      "  lon, lat = pyproj.transform(sinu, wgs84, tiled_xv, tiled_yv)\n"
     ]
    },
    {
     "name": "stdout",
     "output_type": "stream",
     "text": [
      "Are all latitude arrays the same? True\n",
      "Are all longitude arrays the same? True\n"
     ]
    }
   ],
   "source": [
    "#Extract structure attribute from metadata#\n",
    "fattrs = hdf.attributes(full=1)\n",
    "ga = fattrs[\"StructMetadata.0\"]\n",
    "gridmeta = ga[0]\n",
    "#Extract upper left and lower right coordinates\n",
    "ul_regex = re.compile(r'''UpperLeftPointMtrs=\\(\n",
    "                          (?P<upper_left_x>[+-]?\\d+\\.\\d+)\n",
    "                          ,\n",
    "                          (?P<upper_left_y>[+-]?\\d+\\.\\d+)\n",
    "                          \\)''', re.VERBOSE)\n",
    "\n",
    "match = ul_regex.search(gridmeta)\n",
    "x0 = np.double(match.group('upper_left_x'))\n",
    "y0 = np.double(match.group('upper_left_y'))\n",
    "\n",
    "lr_regex = re.compile(r'''LowerRightMtrs=\\(\n",
    "                          (?P<lower_right_x>[+-]?\\d+\\.\\d+)\n",
    "                          ,\n",
    "                          (?P<lower_right_y>[+-]?\\d+\\.\\d+)\n",
    "                          \\)''', re.VERBOSE)\n",
    "match = lr_regex.search(gridmeta)\n",
    "x1 = np.double(match.group('lower_right_x'))\n",
    "y1 = np.double(match.group('lower_right_y'))\n",
    "\n",
    "# Get dimensions of stacked array\n",
    "#Create Grid Coordinates\n",
    "time_array, ny, nx = aod550.shape\n",
    "x = np.linspace(x0, x1, nx)\n",
    "y = np.linspace(y0, y1, ny) \n",
    "xv, yv = np.meshgrid(x, y)\n",
    "# Initialize projection transforms\n",
    "# Sinusoidal projection used by the MODIS data to WGS84 latitude/longitude projection\n",
    "sinu = pyproj.Proj(\"+proj=sinu +R=6371007.181 +nadgrids=@null +wktext\")\n",
    "wgs84 = pyproj.Proj(\"+init=EPSG:4326\")\n",
    "\n",
    "# Tile the meshgrids to match stacked data shape\n",
    "tiled_xv = np.tile(xv, (num_orbits, 1, 1))\n",
    "tiled_yv = np.tile(yv, (num_orbits, 1, 1))\n",
    "\n",
    "# Project the tiled grids  \n",
    "lon, lat = pyproj.transform(sinu, wgs84, tiled_xv, tiled_yv)\n",
    "\n",
    "# Adjust longitude  \n",
    "lon[lon < 0] += 360\n",
    "lon_flat = lon.flatten()\n",
    "lat_flat = lat.flatten()\n",
    "# Now we can check if latitudes and longitudes for each orbit are the same\n",
    "lat_same = all(np.array_equal(lat, lat) for _ in range(4))\n",
    "lon_same = all(np.array_equal(lon, lon) for _ in range(4))\n",
    "\n",
    "print(f\"Are all latitude arrays the same? {lat_same}\")\n",
    "print(f\"Are all longitude arrays the same? {lon_same}\")\n",
    "#Extract 2D Latitude and Longitude\n",
    "lat_2d = lat[0, :, :]\n",
    "lon_2d = lon[0, :, :]"
   ]
  },
  {
   "cell_type": "code",
   "execution_count": 109,
   "id": "5dfe8f48-b303-40b5-b4ad-fd05f710f179",
   "metadata": {},
   "outputs": [
    {
     "name": "stdout",
     "output_type": "stream",
     "text": [
      "Date: 2018-04-30\n",
      "Type of date: <class 'datetime.date'>\n"
     ]
    }
   ],
   "source": []
  },
  {
   "cell_type": "code",
   "execution_count": 114,
   "id": "336d1173-fa48-4d84-bf1d-19ea6e8c570d",
   "metadata": {},
   "outputs": [
    {
     "name": "stdout",
     "output_type": "stream",
     "text": [
      "Date: 2018-04-30\n",
      "Type of date: <class 'datetime.date'>\n",
      "NetCDF file 'AOD_data_20180430.nc' has been created successfully.\n"
     ]
    }
   ],
   "source": [
    "import netCDF4 as nc\n",
    "import numpy as np\n",
    "from datetime import datetime, timedelta, date\n",
    "time = np.datetime64(time_array[0], 'D').astype(datetime)\n",
    "print(f\"Date: {time}\")\n",
    "print(f\"Type of date: {type(time)}\")\n",
    "# Create a NetCDF file\n",
    "filename = f\"AOD_data_{time.strftime('%Y%m%d')}.nc\"\n",
    "dataset = nc.Dataset(filename, 'w', format='NETCDF4')\n",
    "# Create dimensions\n",
    "dataset.createDimension('time', 1)  # We're dealing with daily data, so time dimension is 1\n",
    "dataset.createDimension('latitude', 1200)\n",
    "dataset.createDimension('longitude', 1200)\n",
    "\n",
    "# Create variables\n",
    "times = dataset.createVariable('time', 'f8', ('time',))\n",
    "latitudes = dataset.createVariable('latitude', 'f4', ('latitude',))\n",
    "longitudes = dataset.createVariable('longitude', 'f4', ('longitude',))\n",
    "aod550 = dataset.createVariable('aod550', 'f4', ('time', 'latitude', 'longitude',))\n",
    "aod470 = dataset.createVariable('aod470', 'f4', ('time', 'latitude', 'longitude',))\n",
    "\n",
    "# Add attributes\n",
    "dataset.description = 'Daily AOD data'\n",
    "dataset.history = f'Created {datetime.now()}'\n",
    "dataset.source = 'MODIS data'\n",
    "\n",
    "times.units = 'days since 1970-01-01 00:00:00'\n",
    "times.calendar = 'gregorian'\n",
    "\n",
    "latitudes.units = 'degrees_north'\n",
    "longitudes.units = 'degrees_east'\n",
    "\n",
    "aod550.units = 'dimensionless'\n",
    "aod550.long_name = 'Aerosol Optical Depth at 550nm'\n",
    "\n",
    "aod470.units = 'dimensionless'\n",
    "aod470.long_name = 'Aerosol Optical Depth at 470nm'\n",
    "# Write data\n",
    "times[0] = (time - date(1970, 1, 1)).days\n",
    "latitudes[:] = lat_2d[:, 0]  # Assuming lat_2d is the same for all longitudes\n",
    "longitudes[:] = lon_2d[0, :]  # Assuming lon_2d is the same for all latitudes\n",
    "aod550[0, :, :] = daily_aod550\n",
    "aod470[0, :, :] = daily_aod470\n",
    "\n",
    "# Close the dataset\n",
    "dataset.close()\n",
    "\n",
    "print(f\"NetCDF file '{filename}' has been created successfully.\")"
   ]
  }
 ],
 "metadata": {
  "kernelspec": {
   "display_name": "Python 3 (ipykernel)",
   "language": "python",
   "name": "python3"
  },
  "language_info": {
   "codemirror_mode": {
    "name": "ipython",
    "version": 3
   },
   "file_extension": ".py",
   "mimetype": "text/x-python",
   "name": "python",
   "nbconvert_exporter": "python",
   "pygments_lexer": "ipython3",
   "version": "3.9.13"
  }
 },
 "nbformat": 4,
 "nbformat_minor": 5
}
